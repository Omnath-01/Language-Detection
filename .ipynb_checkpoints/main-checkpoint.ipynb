{
 "cells": [
  {
   "cell_type": "code",
   "execution_count": null,
   "metadata": {},
   "outputs": [],
   "source": [
    "import pandas as pd\n",
    "import numpy as np\n",
    "import re\n",
    "import seaborn as sns\n",
    "import matplotlib.pyplot as plt\n",
    "import warnings\n",
    "warnings.simplefilter(\"ignore\")"
   ]
  },
  {
   "cell_type": "code",
   "execution_count": null,
   "metadata": {},
   "outputs": [],
   "source": [
    "# Loading the dataset\n",
    "data = pd.read_csv(\"Language Detection.csv\")"
   ]
  },
  {
   "cell_type": "code",
   "execution_count": null,
   "metadata": {},
   "outputs": [],
   "source": [
    "# value count for each language\n",
    "data[\"Language\"].value_counts()"
   ]
  },
  {
   "cell_type": "code",
   "execution_count": null,
   "metadata": {},
   "outputs": [],
   "source": [
    "# separating the independent and dependant features\n",
    "X = data[\"Text\"]\n",
    "y = data[\"Language\"]"
   ]
  },
  {
   "cell_type": "code",
   "execution_count": null,
   "metadata": {},
   "outputs": [],
   "source": [
    "# converting categorical variables to numerical\n",
    "from sklearn.preprocessing import LabelEncoder\n",
    "le = LabelEncoder()\n",
    "y = le.fit_transform(y)"
   ]
  },
  {
   "cell_type": "code",
   "execution_count": null,
   "metadata": {},
   "outputs": [],
   "source": [
    "# creating a list for appending the preprocessed text\n",
    "data_list = []\n",
    "for text in X:\n",
    "    # removing the symbols and numbers\n",
    "    text = re.sub(r'[!@#$(),n\"%^*?:;~`0-9]', ' ', text)\n",
    "    text = re.sub(r'[[]]', ' ', text)\n",
    "    # converting the text to lower case\n",
    "    text = text.lower()\n",
    "    # appending to data_list\n",
    "    data_list.append(text)"
   ]
  },
  {
   "cell_type": "code",
   "execution_count": null,
   "metadata": {},
   "outputs": [],
   "source": [
    "# creating bag of words using countvectorizer\n",
    "from sklearn.feature_extraction.text import CountVectorizer\n",
    "cv = CountVectorizer()\n",
    "X = cv.fit_transform(data_list).toarray()"
   ]
  },
  {
   "cell_type": "code",
   "execution_count": null,
   "metadata": {},
   "outputs": [],
   "source": [
    "#train test splitting\n",
    "from sklearn.model_selection import train_test_split\n",
    "x_train, x_test, y_train, y_test = train_test_split(X, y, test_size = 0.20)"
   ]
  },
  {
   "cell_type": "code",
   "execution_count": null,
   "metadata": {},
   "outputs": [],
   "source": [
    "#model creation and predict\n",
    "from sklearn.naive_bayes import MultinomialNB\n",
    "model = MultinomialNB()\n",
    "model.fit(x_train, y_train)"
   ]
  },
  {
   "cell_type": "code",
   "execution_count": null,
   "metadata": {},
   "outputs": [],
   "source": [
    "# prediction\n",
    "y_pred = model.predict(x_test)"
   ]
  },
  {
   "cell_type": "code",
   "execution_count": null,
   "metadata": {},
   "outputs": [],
   "source": [
    "# model evaluation\n",
    "from sklearn.metrics import accuracy_score, confusion_matrix\n",
    "ac = accuracy_score(y_test, y_pred)\n",
    "cm = confusion_matrix(y_test, y_pred)"
   ]
  },
  {
   "cell_type": "code",
   "execution_count": null,
   "metadata": {},
   "outputs": [],
   "source": [
    "print(\"Accuracy is :\",ac)"
   ]
  },
  {
   "cell_type": "code",
   "execution_count": null,
   "metadata": {},
   "outputs": [],
   "source": [
    "plt.figure(figsize=(8,5))\n",
    "sns.heatmap(cm, annot = True)\n",
    "plt.show()"
   ]
  },
  {
   "cell_type": "code",
   "execution_count": null,
   "metadata": {},
   "outputs": [],
   "source": [
    "# function for predicting language\n",
    "def prediction(text):\n",
    "    x = cv.transform([text]).toarray()\n",
    "    lang = model.predict(x)\n",
    "    lang = le.inverse_transform(lang)\n",
    "    print(\"The langauge is in\",lang[0])"
   ]
  },
  {
   "cell_type": "code",
   "execution_count": null,
   "metadata": {},
   "outputs": [],
   "source": [
    "# English\n",
    "prediction(\"I love programming, Python is my favorite language.\")\n",
    "# French\n",
    "prediction(\"J'adore programmer, Python est mon langage préféré.\")\n",
    "# Spanish\n",
    "prediction(\"Me encanta programar, Python es mi lenguaje favorito.\")\n",
    "# Portugeese\n",
    "prediction(\"Eu amo programar, Python é minha linguagem favorita.\")\n",
    "# Italian\n",
    "prediction(\"Amo programmare, Python è il mio linguaggio preferito.\")\n",
    "# Russian\n",
    "prediction(\"Я люблю программировать, Python — мой любимый язык.\")\n",
    "# Sweedish\n",
    "prediction(\"Jag älskar programmering, Python är mitt favoritspråk.\")\n",
    "# Malayalam\n",
    "prediction(\"എനിക്ക് പ്രോഗ്രാമിംഗ് ഇഷ്ടമാണ്, പൈത്തൺ എന്റെ പ്രിയപ്പെട്ട ഭാഷയാണ്.\")\n",
    "# Dutch\n",
    "prediction(\"Ik hou van programmeren, Python is mijn favoriete taal.\")\n",
    "# Arabic\n",
    "prediction(\"أحب البرمجة ، بايثون هي لغتي المفضلة.\")\n",
    "# Turkish\n",
    "prediction(\"Programlamayı seviyorum, Python benim favori dilim.\")\n",
    "# German\n",
    "prediction(\"Ich liebe das Programmieren, Python ist meine Lieblingssprache.\")\n",
    "# Tamil\n",
    "prediction(\"நான் நிரலாக்கத்தை விரும்புகிறேன், பைதான் எனக்கு மிகவும் பிடித்த மொழி.\")\n",
    "# Danish\n",
    "prediction(\"Jeg elsker programmering, Python er mit yndlingssprog.\")\n",
    "# Kannada\n",
    "prediction(\n",
    "    \"ನಾನು ಪ್ರೋಗ್ರಾಮಿಂಗ್ ಅನ್ನು ಇಷ್ಟಪಡುತ್ತೇನೆ, ಪೈಥಾನ್ ನನ್ನ ನೆಚ್ಚಿನ ಭಾಷೆಯಾಗಿದೆ.\")\n",
    "# Greek\n",
    "prediction(\"Λατρεύω τον προγραμματισμό, η Python είναι η αγαπημένη μου γλώσσα.\")\n",
    "# Hindi\n",
    "prediction(\"मुझे प्रोग्रामिंग पसंद है, पायथन मेरी पसंदीदा भाषा है।\")\n"
   ]
  },
  {
   "cell_type": "code",
   "execution_count": null,
   "metadata": {},
   "outputs": [],
   "source": [
    "# read file sentences.txt \n",
    "sentences = open('sentences.txt',encoding='utf-8')\n",
    "# sentences = open('sentences.txt','r')\n",
    "for sentence in sentences:\n",
    "        # print(sentence)\n",
    "        prediction(sentence)"
   ]
  },
  {
   "cell_type": "code",
   "execution_count": null,
   "metadata": {},
   "outputs": [],
   "source": [
    "# take user input from user to predict language\n",
    "# user_text = input()\n",
    "# prediction(user_text)"
   ]
  }
 ],
 "metadata": {
  "kernelspec": {
   "display_name": "Python 3 (ipykernel)",
   "language": "python",
   "name": "python3"
  },
  "language_info": {
   "codemirror_mode": {
    "name": "ipython",
    "version": 3
   },
   "file_extension": ".py",
   "mimetype": "text/x-python",
   "name": "python",
   "nbconvert_exporter": "python",
   "pygments_lexer": "ipython3",
   "version": "3.11.4"
  }
 },
 "nbformat": 4,
 "nbformat_minor": 2
}
